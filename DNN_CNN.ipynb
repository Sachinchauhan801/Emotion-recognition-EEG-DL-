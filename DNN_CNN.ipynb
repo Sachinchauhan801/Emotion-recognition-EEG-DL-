{
  "nbformat": 4,
  "nbformat_minor": 0,
  "metadata": {
    "colab": {
      "name": "DNN_CNN.ipynb",
      "provenance": [],
      "collapsed_sections": [],
      "authorship_tag": "ABX9TyMPwGuYJHE2E90aWMLaGjZo",
      "include_colab_link": true
    },
    "kernelspec": {
      "name": "python3",
      "display_name": "Python 3"
    }
  },
  "cells": [
    {
      "cell_type": "markdown",
      "metadata": {
        "id": "view-in-github",
        "colab_type": "text"
      },
      "source": [
        "<a href=\"https://colab.research.google.com/github/Sachinchauhan801/Emotion-recognition-EEG-DL-/blob/main/DNN_CNN.ipynb\" target=\"_parent\"><img src=\"https://colab.research.google.com/assets/colab-badge.svg\" alt=\"Open In Colab\"/></a>"
      ]
    },
    {
      "cell_type": "code",
      "metadata": {
        "id": "iUkiZtVLnsNy"
      },
      "source": [
        "from google.colab import drive\r\n",
        "drive.mount('/content/drive')"
      ],
      "execution_count": null,
      "outputs": []
    },
    {
      "cell_type": "code",
      "metadata": {
        "id": "0xUtG7qyntew"
      },
      "source": [
        "import numpy as np\r\n",
        "import pickle\r\n",
        "import statistics\r\n",
        "from scipy.stats import *\r\n",
        "from statistics import *\r\n",
        "import tensorflow as tf\r\n",
        "import matplotlib.pyplot as pl\r\n",
        "from sklearn.model_selection import train_test_split"
      ],
      "execution_count": null,
      "outputs": []
    },
    {
      "cell_type": "code",
      "metadata": {
        "id": "6TGfJH6noJP2"
      },
      "source": [
        "nLabel, nTrial, nUser, nChannel, nTime, nBatches = 4, 40, 32, 40, 8064, 10\r\n",
        "batch_size=nTime//nBatches\r\n",
        "# fname = \"/content/drive/My Drive/Deap_data_preprocessed_python/data_preprocessed_python/s\"+str(name)+\".dat\"     \r\n",
        "# f = open(fname, 'rb')                 #Read the file in Binary mode\r\n",
        "# x = pickle.load(f, encoding='latin1')\r\n",
        "# data = (x['labels'])"
      ],
      "execution_count": null,
      "outputs": []
    },
    {
      "cell_type": "code",
      "metadata": {
        "id": "XytXhSX4oQdM"
      },
      "source": [
        "subno = 0\r\n",
        "expno = 0\r\n",
        "finalData = []\r\n",
        "finalLabel = []\r\n",
        "mainData = []\r\n",
        "fFinalData = []\r\n",
        "fFinalLabel = []\r\n",
        "for l in range(32):\r\n",
        "  # print(i)\r\n",
        "  if(l%1 == 0):\r\n",
        "    if l < 10:\r\n",
        "      name = '%0*d' % (2,l+1)\r\n",
        "    else:\r\n",
        "      name = l+1\r\n",
        "    fname = \"/content/drive/My Drive/Deap_data_preprocessed_python/data_preprocessed_python/s\"+str(name)+\".dat\"     \r\n",
        "    f = open(fname, 'rb')                 #Read the file in Binary mode\r\n",
        "    x = pickle.load(f, encoding='latin1')\r\n",
        "    data = (x['data'])\r\n",
        "    label = x['labels']\r\n",
        "    expno = 0\r\n",
        "    for i in data:\r\n",
        "      # print(len(i))\r\n",
        "      for j in i:\r\n",
        "        for k in range(10):\r\n",
        "          batchdata = j[k*batch_size:(k+1)*batch_size]\r\n",
        "          mainData.append(statistics.mean(batchdata))\r\n",
        "          mainData.append(statistics.median(batchdata))\r\n",
        "          mainData.append(max(batchdata))\r\n",
        "          mainData.append(min(batchdata))\r\n",
        "          mainData.append(stdev(batchdata))\r\n",
        "          mainData.append(variance(batchdata))\r\n",
        "          mainData.append(kurtosis(batchdata))\r\n",
        "          mainData.append(skew(batchdata))\r\n",
        "          mainData.append(max(batchdata)-min(batchdata))\r\n",
        "        mainData.append(statistics.mean(j))\r\n",
        "        mainData.append(statistics.median(j))\r\n",
        "        mainData.append(max(j))\r\n",
        "        mainData.append(min(j))\r\n",
        "        mainData.append(stdev(j))\r\n",
        "        mainData.append(variance(j))\r\n",
        "        mainData.append(kurtosis(j))\r\n",
        "        mainData.append(skew(j))\r\n",
        "        mainData.append(max(j)-min(j))\r\n",
        "        mainData.append(expno)\r\n",
        "        mainData.append(subno)\r\n",
        "          # print(mainData)\r\n",
        "      finalData.append(mainData)\r\n",
        "      finalLabel.append(label[expno])\r\n",
        "      mainData = []\r\n",
        "      expno = expno+1\r\n",
        "      # print(expno)\r\n",
        "    fFinalData.append(finalData)\r\n",
        "    fFinalLabel.append(finalLabel)\r\n",
        "    finalData = []\r\n",
        "    finalLabel = []\r\n",
        "    print(subno)\r\n",
        "    subno = subno + 1\r\n",
        "print(len(fFinalData))\r\n",
        "print(len(fFinalLabel))"
      ],
      "execution_count": null,
      "outputs": []
    },
    {
      "cell_type": "code",
      "metadata": {
        "id": "1-PjXf6yoe6S"
      },
      "source": [
        "flatten_Data_list = list(chain.from_iterable(fFinalData))\r\n",
        "flatten_Label_list = list(chain.from_iterable(fFinalLabel))\r\n",
        "print(len(flatten_Data_list))\r\n",
        "print(len(flatten_Label_list))\r\n",
        "np.save(\"/content/drive/My Drive/Deap_data_preprocessed_python/CNN_DNN_Deap/FinalData\",flatten_Data_list)\r\n",
        "np.save(\"/content/drive/My Drive/Deap_data_preprocessed_python/CNN_DNN_Deap/FinalLabel\",flatten_Label_list)"
      ],
      "execution_count": null,
      "outputs": []
    },
    {
      "cell_type": "code",
      "metadata": {
        "id": "uNfbQ7h5orc_"
      },
      "source": [
        "aData = np.load(\"/content/drive/My Drive/Deap_data_preprocessed_python/CNN_DNN_Deap/FinalData.npy\")\r\n",
        "lData=np.load(\"/content/drive/My Drive/Deap_data_preprocessed_python/CNN_DNN_Deap/FinalLabel.npy\")\r\n",
        "#aData.shape\r\n",
        "#lData.shape"
      ],
      "execution_count": null,
      "outputs": []
    },
    {
      "cell_type": "code",
      "metadata": {
        "id": "AQdMHIuqo67A"
      },
      "source": [
        "def onehotencoding0():\r\n",
        "    print(\"Program started\"+\"\\n\")\r\n",
        "    fout_labels_class = open(\"/content/drive/My Drive/Deap_data_preprocessed_python/CNN_DNN_Deap/label_class_0.dat\",'w')\r\n",
        "    \r\n",
        "    with open('/content/drive/My Drive/Deap_data_preprocessed_python/data_preprocessed_python/labels_0.dat','r') as f:\r\n",
        "        for val in f:\r\n",
        "            if float(val) >5:\r\n",
        "                fout_labels_class.write(str(1) + \"\\n\");\r\n",
        "            else:\r\n",
        "                fout_labels_class.write(str(0) + \"\\n\");\r\n",
        "                \r\n",
        "    print(\"Encoded label 0\"+\"\\n\")\r\n",
        "onehotencoding0() \r\n",
        "\r\n"
      ],
      "execution_count": null,
      "outputs": []
    },
    {
      "cell_type": "code",
      "metadata": {
        "id": "F66e1fPB-3Fc"
      },
      "source": [
        "def onehotencoding1():\r\n",
        "    print(\"Program started\"+\"\\n\")\r\n",
        "    fout_labels_class = open(\"/content/drive/My Drive/Deap_data_preprocessed_python/CNN_DNN_Deap/input_val.dat\",'w')\r\n",
        "    \r\n",
        "    with open('/content/drive/My Drive/Deap_data_preprocessed_python/data_preprocessed_python/labels_1.dat','r') as f:\r\n",
        "        for val in f:\r\n",
        "            if float(val) >5:\r\n",
        "                fout_labels_class.write(str(1) + \"\\n\");\r\n",
        "            else:\r\n",
        "                fout_labels_class.write(str(0) + \"\\n\");\r\n",
        "                \r\n",
        "    print(\"Encoded label 0\"+\"\\n\")\r\n",
        "onehotencoding1()  "
      ],
      "execution_count": null,
      "outputs": []
    },
    {
      "cell_type": "code",
      "metadata": {
        "id": "8EC-Hvu--90T"
      },
      "source": [
        "print(lData)\r\n",
        "m=lData[:,2]\r\n",
        "print(m)\r\n"
      ],
      "execution_count": null,
      "outputs": []
    },
    {
      "cell_type": "code",
      "metadata": {
        "id": "UNovEEf4_EuP"
      },
      "source": [
        "for i in range(len(m)):\r\n",
        "  if m[i]>5:\r\n",
        "    m[i]=1\r\n",
        "  else:\r\n",
        "    m[i]=0\r\n",
        "print(m)\r\n"
      ],
      "execution_count": null,
      "outputs": []
    },
    {
      "cell_type": "code",
      "metadata": {
        "id": "vvcjNwN4_uy_"
      },
      "source": [
        "X_train, X_test, y_train, y_test = train_test_split(aData, m, test_size=0.2,shuffle=True)"
      ],
      "execution_count": null,
      "outputs": []
    },
    {
      "cell_type": "code",
      "metadata": {
        "id": "GeiGVdd9_weX"
      },
      "source": [
        "import numpy\r\n",
        "from keras import optimizers\r\n",
        "from keras.layers import Dense, Dropout, Flatten\r\n",
        "from sklearn.model_selection import GridSearchCV\r\n",
        "from keras.models import Sequential\r\n",
        "from keras.layers import Dense\r\n",
        "from keras.constraints import maxnorm\r\n",
        "from keras.wrappers.scikit_learn import KerasClassifier"
      ],
      "execution_count": null,
      "outputs": []
    },
    {
      "cell_type": "code",
      "metadata": {
        "id": "c5Gvrze5AFxg"
      },
      "source": [
        "##################### DNN #######################\r\n",
        "# Function to create model, required for KerasClassifier\r\n",
        "model5 = Sequential()\r\n",
        "model5.add(Dense(4096, kernel_initializer='uniform',activation='softsign',input_dim=4040, kernel_constraint=maxnorm(4)))\r\n",
        "#model.add(Dropout(0.1))\r\n",
        "model5.add(Dense(512, kernel_initializer='uniform',activation='softsign',kernel_constraint=maxnorm(4)))\r\n",
        "#model.add(Dropout(0.1))\r\n",
        "model5.add(Dense(1024, kernel_initializer='uniform',activation='relu',kernel_constraint=maxnorm(4)))\r\n",
        "#model.add(Dropout(0.15))\r\n",
        "model5.add(Dense(1,kernel_initializer='uniform',activation='sigmoid'))\r\n",
        "sgd = optimizers.SGD(lr=0.001, decay=1e-6, momentum=0.9, nesterov=True)\r\n",
        "model5.compile(loss='binary_crossentropy', optimizer=sgd, metrics=['accuracy'])"
      ],
      "execution_count": null,
      "outputs": []
    },
    {
      "cell_type": "code",
      "metadata": {
        "id": "u7S6B4qgBFNy"
      },
      "source": [
        "history = model5.fit(X_train, y_train, epochs= 200,batch_size=16, verbose=2, validation_data=(X_test, y_test),shuffle=True)\r\n",
        "model.summary()"
      ],
      "execution_count": null,
      "outputs": []
    },
    {
      "cell_type": "code",
      "metadata": {
        "id": "tkDP0zfVAOj0"
      },
      "source": [
        "import matplotlib.pyplot as plt\r\n",
        "\r\n",
        "plt.figure()\r\n",
        "plt.title('Accuracy wala graph')\r\n",
        "plt.plot(history.history['acc'])\r\n",
        "plt.plot(history.history['val_acc'])\r\n",
        "plt.legend(['train', 'test'])\r\n",
        "plt.xlabel('Epochs')\r\n",
        "plt.ylabel('Accuracy')\r\n",
        "plt.show()\r\n"
      ],
      "execution_count": null,
      "outputs": []
    },
    {
      "cell_type": "code",
      "metadata": {
        "id": "-AOXsx1UBcWl"
      },
      "source": [
        ""
      ],
      "execution_count": null,
      "outputs": []
    },
    {
      "cell_type": "code",
      "metadata": {
        "id": "RCokO2bWBWw5"
      },
      "source": [
        ""
      ],
      "execution_count": null,
      "outputs": []
    },
    {
      "cell_type": "code",
      "metadata": {
        "id": "RQ3Ag5D2BXAC"
      },
      "source": [
        "###################    CNN    ######################### "
      ],
      "execution_count": null,
      "outputs": []
    },
    {
      "cell_type": "code",
      "metadata": {
        "id": "MsslcWI3BXSo"
      },
      "source": [
        "cnnData = aData\r\n",
        "cnnData = np.asarray(cnnData)\r\n",
        "cnnData = cnnData.reshape(-1,40,101,1)\r\n",
        "print(cnnData.shape)"
      ],
      "execution_count": null,
      "outputs": []
    },
    {
      "cell_type": "code",
      "metadata": {
        "id": "8lhoQ3mxAQ6a"
      },
      "source": [
        "print(lData)\r\n",
        "x=lData[:,1]\r\n",
        "print(x)"
      ],
      "execution_count": null,
      "outputs": []
    },
    {
      "cell_type": "code",
      "metadata": {
        "id": "GtoiXQNZ_1a5"
      },
      "source": [
        "for i in range(len(x)):\r\n",
        "  if x[i]>5:\r\n",
        "    x[i]=1\r\n",
        "  else:\r\n",
        "    x[i]=0\r\n",
        "print(x)"
      ],
      "execution_count": null,
      "outputs": []
    },
    {
      "cell_type": "code",
      "metadata": {
        "id": "KiuTuB8TBuez"
      },
      "source": [
        "nbClasses = 2;\r\n",
        "imgRows, imgCols = 40, 101; nbPool = 2;nbConv=3;\r\n",
        "cnnmodel2T = Sequential()\r\n",
        "cnnmodel2T.add(Conv2D(100, nbConv,nbConv, border_mode ='valid',activation='relu', input_shape=(40,101,1)))\r\n",
        "cnnmodel2T.add(Conv2D(100, nbConv, nbConv,activation='reLu'))\r\n",
        "cnnmodel2T.add(MaxPooling2D(pool_size =(nbPool, nbPool)))\r\n",
        "cnnmodelT.add(Dropout(0.10))\r\n",
        "cnnmodel2T.add(Flatten())\r\n",
        "cnnmodel2T.add(Dense(128,activation='reLu'))\r\n",
        "cnnmodelT.add(Dropout(0.10))\r\n",
        "cnnmodel2T.add(Dense(2,activation='softmax'))\r\n",
        "sgd = keras.optimizers.SGD(lr = 0.00001, decay=1e-6,momentum = 0.9, nesterov = True)\r\n",
        "cnnmodel2T.compile(loss ='sparse_categorical_crossentropy', optimizer = sgd, metrics=['accuracy'])\r\n",
        "cnnmodel2T.summary()"
      ],
      "execution_count": null,
      "outputs": []
    },
    {
      "cell_type": "code",
      "metadata": {
        "id": "qSUQCYtoCX_h"
      },
      "source": [
        "X_train, X_test, y_train, y_test = train_test_split(cnnData, x, test_size=0.1,shuffle=True)"
      ],
      "execution_count": null,
      "outputs": []
    },
    {
      "cell_type": "code",
      "metadata": {
        "id": "CAmOqRugCfyf"
      },
      "source": [
        "cnnmodel2T.fit(X_train, y_train,batch_size=64,epochs=300,verbose=2,validation_split=0.1)\r\n",
        "score = cnnmodel2T.evaluate(X_test, y_test, verbose=0)\r\n",
        "print('Test loss:', score[0])\r\n",
        "print('Test accuracy:', score[1])\r\n"
      ],
      "execution_count": null,
      "outputs": []
    },
    {
      "cell_type": "code",
      "metadata": {
        "id": "-H5IOMD8DB6e"
      },
      "source": [
        "import matplotlib.pyplot as plt\r\n",
        "from matplotlib.pyplot import figure\r\n",
        "plt.figure(num=None, figsize=(10, 6), dpi=80, facecolor='w', edgecolor='k')\r\n",
        "plt.title('Accuracy graph')\r\n",
        "plt.plot(cnnmodel2T.history.history['acc'])\r\n",
        "\r\n",
        "#plt.plot(cnnmodel1.history.history['val_acc'])\r\n",
        "plt.legend(['train'])\r\n",
        "plt.xlabel('Epochs')\r\n",
        "plt.ylabel('Accuracy')\r\n",
        "plt.show()\r\n",
        "\r\n",
        "\r\n",
        "plt.figure(num=None, figsize=(10, 6), dpi=80, facecolor='w', edgecolor='k')\r\n",
        "plt.title('validation Accuracy wala graph')\r\n",
        "#plt.plot(cnnmodel1.history.history['acc'])\r\n",
        "plt.plot(cnnmodel2T.history.history['val_acc'])\r\n",
        "plt.legend(['train'])\r\n",
        "plt.xlabel('Epochs')\r\n",
        "plt.ylabel('Accuracy')\r\n",
        "plt.show()"
      ],
      "execution_count": null,
      "outputs": []
    }
  ]
}